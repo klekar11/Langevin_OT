{
 "cells": [
  {
   "cell_type": "markdown",
   "id": "9c6b52f8",
   "metadata": {},
   "source": [
    "# LSI convergence for log-concave marginals"
   ]
  },
  {
   "cell_type": "code",
   "execution_count": 36,
   "id": "6aefe0ee",
   "metadata": {},
   "outputs": [
    {
     "name": "stdout",
     "output_type": "stream",
     "text": [
      "Defaulting to user installation because normal site-packages is not writeable\n",
      "Requirement already satisfied: emcee in /home/karapas/.local/lib/python3.10/site-packages (3.1.6)\n",
      "Requirement already satisfied: numpy in /usr/lib/python3/dist-packages (from emcee) (1.21.5)\n",
      "Note: you may need to restart the kernel to use updated packages.\n",
      "Defaulting to user installation because normal site-packages is not writeable\n",
      "Requirement already satisfied: scikit-learn in /home/karapas/.local/lib/python3.10/site-packages (1.6.1)\n",
      "Requirement already satisfied: numpy>=1.19.5 in /usr/lib/python3/dist-packages (from scikit-learn) (1.21.5)\n",
      "Requirement already satisfied: scipy>=1.6.0 in /usr/lib/python3/dist-packages (from scikit-learn) (1.8.0)\n",
      "Requirement already satisfied: threadpoolctl>=3.1.0 in /home/karapas/.local/lib/python3.10/site-packages (from scikit-learn) (3.6.0)\n",
      "Requirement already satisfied: joblib>=1.2.0 in /home/karapas/.local/lib/python3.10/site-packages (from scikit-learn) (1.5.1)\n",
      "Note: you may need to restart the kernel to use updated packages.\n",
      "Defaulting to user installation because normal site-packages is not writeable\n",
      "Collecting pot\n",
      "  Downloading POT-0.9.5-cp310-cp310-manylinux_2_17_x86_64.manylinux2014_x86_64.whl (865 kB)\n",
      "\u001b[2K     \u001b[38;2;114;156;31m━━━━━━━━━━━━━━━━━━━━━━━━━━━━━━━━━━━━━━━\u001b[0m \u001b[32m865.6/865.6 KB\u001b[0m \u001b[31m7.6 MB/s\u001b[0m eta \u001b[36m0:00:00\u001b[0m[31m7.9 MB/s\u001b[0m eta \u001b[36m0:00:01\u001b[0m\n",
      "\u001b[?25hRequirement already satisfied: numpy>=1.16 in /usr/lib/python3/dist-packages (from pot) (1.21.5)\n",
      "Requirement already satisfied: scipy>=1.6 in /usr/lib/python3/dist-packages (from pot) (1.8.0)\n",
      "Installing collected packages: pot\n",
      "Successfully installed pot-0.9.5\n",
      "Note: you may need to restart the kernel to use updated packages.\n"
     ]
    }
   ],
   "source": [
    "%pip install emcee\n",
    "%pip install scikit-learn\n",
    "%pip install pot"
   ]
  },
  {
   "cell_type": "code",
   "execution_count": 15,
   "id": "f005d725",
   "metadata": {},
   "outputs": [],
   "source": [
    "import numpy as np"
   ]
  },
  {
   "cell_type": "code",
   "execution_count": 16,
   "id": "832b5080",
   "metadata": {},
   "outputs": [],
   "source": [
    "from LSI_helpers import epsilon_c, kappa_X_given_Y, kappa_Y_given_X, rate_r\n",
    "from wasserstein_distances import W2_empirical\n",
    "from EM import euler_maruyama_coupling"
   ]
  },
  {
   "cell_type": "code",
   "execution_count": 17,
   "id": "83b16820",
   "metadata": {},
   "outputs": [],
   "source": [
    "delta = 0.1\n",
    "\n",
    "def U(x):\n",
    "    return 0.5 * x**2 + delta * np.sin(x)**2\n",
    "\n",
    "def grad_U(x):\n",
    "    return x + delta * np.sin(2*x)\n",
    "\n",
    "def V(y):\n",
    "    return 1.5 * y**2 + delta * np.sin(y)**2\n",
    "\n",
    "def grad_V(y):\n",
    "    return 3.0 * y + delta * np.sin(2*y)"
   ]
  },
  {
   "cell_type": "code",
   "execution_count": 18,
   "id": "09cf1580",
   "metadata": {},
   "outputs": [],
   "source": [
    "alpha_u, beta_u = 0.8, 1.2\n",
    "alpha_v, beta_v = 2.8, 3.2\n",
    "\n",
    "eps = 0.2       # must exceed ε_c for these U, V\n",
    "N = 1000        # number of particles\n",
    "dt = 1e-3       # time-step\n",
    "T = 5.0         # final time\n",
    "\n",
    "eps_c_val = epsilon_c(alpha_u, alpha_v, beta_u, beta_v)\n",
    "kX = kappa_X_given_Y(alpha_u, beta_v, eps)\n",
    "kY = kappa_Y_given_X(alpha_v, beta_u, eps)\n",
    "r_val = rate_r(kX, kY, eps)\n",
    "\n",
    "steps = int(T / dt)\n",
    "times = np.linspace(0.0, T, steps + 1)"
   ]
  },
  {
   "cell_type": "markdown",
   "id": "0f7e372d",
   "metadata": {},
   "source": [
    "## MCMC sampling from $\\exp{-U(x)}$ and $\\exp{-V(y)}$ "
   ]
  },
  {
   "cell_type": "code",
   "execution_count": 31,
   "id": "90b6128e",
   "metadata": {},
   "outputs": [
    {
     "name": "stdout",
     "output_type": "stream",
     "text": [
      "Collected 5000 samples from π(x) ∝ exp(-U(x)).\n",
      "Collected 5000 samples from π(y) ∝ exp(-V(y)).\n"
     ]
    }
   ],
   "source": [
    "import emcee\n",
    "\n",
    "# (Assume U(x), V(y), and rng are already defined above.)\n",
    "\n",
    "# 1) Define log‐probability for U\n",
    "def log_prob_U(theta):\n",
    "    x = theta[0]          # theta is a length-1 array [x]\n",
    "    return -U(x)          # log π₁(x) = −U(x)\n",
    "\n",
    "# 2) Sampler parameters\n",
    "ndim     = 1\n",
    "nwalkers = 40\n",
    "nburn    = 1000\n",
    "nsteps   = 125\n",
    "\n",
    "# 3) Initialize walkers for U\n",
    "rng = np.random.default_rng(0)\n",
    "p0 = rng.normal(loc=0.0, scale=0.1, size=(nwalkers, ndim))\n",
    "\n",
    "# 4) Burn-in for U\n",
    "sampler = emcee.EnsembleSampler(nwalkers, ndim, log_prob_U)\n",
    "pos, _, _ = sampler.run_mcmc(p0, nburn, progress=False)\n",
    "\n",
    "# 5) Production for U\n",
    "sampler.reset()\n",
    "sampler.run_mcmc(pos, nsteps, progress=False)\n",
    "\n",
    "# 6) Extract U-samples\n",
    "chain = sampler.get_chain(flat=True)   # shape = (nwalkers * nsteps, ndim)\n",
    "X0 = chain[:, 0]\n",
    "print(\"Collected\", X0.shape[0], \"samples from π(x) ∝ exp(-U(x)).\")\n",
    "\n",
    "# —————————————————————————————————————————————\n",
    "\n",
    "# 7) Define log‐probability for V\n",
    "def log_prob_V(theta):\n",
    "    y = theta[0]\n",
    "    return -V(y)          # log π₂(y) = −V(y)\n",
    "\n",
    "# 8) Initialize walkers for V (this was missing)\n",
    "p0_V = rng.normal(loc=0.0, scale=0.1, size=(nwalkers, ndim))\n",
    "\n",
    "# 9) Burn-in for V\n",
    "sampler_V = emcee.EnsembleSampler(nwalkers, ndim, log_prob_V)\n",
    "pos_V, _, _ = sampler_V.run_mcmc(p0_V, nburn, progress=False)\n",
    "\n",
    "# 10) Production for V\n",
    "sampler_V.reset()\n",
    "sampler_V.run_mcmc(pos_V, nsteps, progress=False)\n",
    "\n",
    "# 11) Extract V-samples\n",
    "chain_V = sampler_V.get_chain(flat=True)\n",
    "Y0 = chain_V[:, 0]\n",
    "print(\"Collected\", Y0.shape[0], \"samples from π(y) ∝ exp(-V(y)).\")\n"
   ]
  },
  {
   "cell_type": "markdown",
   "id": "5cce326d",
   "metadata": {},
   "source": [
    "## EM scheme"
   ]
  },
  {
   "cell_type": "code",
   "execution_count": null,
   "id": "6ba19101",
   "metadata": {},
   "outputs": [
    {
     "name": "stdout",
     "output_type": "stream",
     "text": [
      "0.1885664017641671\n"
     ]
    }
   ],
   "source": [
    "dt = 0.01\n",
    "eps = 0.5\n",
    "num_steps = 500\n",
    "T = num_steps*dt\n",
    "errors, X_traj, Y_traj, _, mY_hist, mX_hist = euler_maruyama_coupling(\n",
    "    X0,\n",
    "    Y0,\n",
    "    epsilon=eps,\n",
    "    T=T,\n",
    "    N=num_steps,\n",
    "    cond_method='isotonic',\n",
    "    h=None,\n",
    "    k=None,\n",
    "    grad_U=grad_U,\n",
    "    grad_V=grad_V,\n",
    "    compute_W2_sq=None,\n",
    "    seed=42\n",
    ")\n",
    "emp_wasserstein = W2_empirical(X0, Y0)\n",
    "print(emp_wasserstein)"
   ]
  },
  {
   "cell_type": "code",
   "execution_count": 33,
   "id": "39c5093d",
   "metadata": {},
   "outputs": [
    {
     "name": "stdout",
     "output_type": "stream",
     "text": [
      "0.15748519708717798\n"
     ]
    }
   ],
   "source": [
    "alpha_u = 0.8\n",
    "beta_u  = 1.2\n",
    "alpha_v = 2.8\n",
    "beta_v  = 3.2\n",
    "\n",
    "eps_c_val = epsilon_c(alpha_u, alpha_v, beta_u, beta_v)\n",
    "print(eps_c_val)"
   ]
  },
  {
   "cell_type": "code",
   "execution_count": 42,
   "id": "c695d0ba",
   "metadata": {},
   "outputs": [
    {
     "data": {
      "image/png": "[encoded data removed]",
      "text/plain": [
       "<Figure size 432x288 with 1 Axes>"
      ]
     },
     "metadata": {
      "needs_background": "light"
     },
     "output_type": "display_data"
    }
   ],
   "source": [
    "import matplotlib.pyplot as plt\n",
    "\n",
    "times = np.arange(num_steps + 1) * dt\n",
    "rel_error = (errors - emp_wasserstein)**2 / emp_wasserstein**2\n",
    "\n",
    "plt.figure()\n",
    "plt.plot(times, rel_error)\n",
    "plt.xlabel('t')\n",
    "plt.ylabel('Relative error')\n",
    "plt.yscale('log')\n",
    "plt.tight_layout()\n",
    "plt.show()"
   ]
  },
  {
   "cell_type": "code",
   "execution_count": 43,
   "id": "cf7c39db",
   "metadata": {},
   "outputs": [
    {
     "data": {
      "image/png": "[encoded data removed]",
      "text/plain": [
       "<Figure size 432x288 with 1 Axes>"
      ]
     },
     "metadata": {
      "needs_background": "light"
     },
     "output_type": "display_data"
    }
   ],
   "source": [
    "times = np.arange(num_steps + 1) * dt\n",
    "\n",
    "plt.figure()\n",
    "plt.plot(times, errors, label='E')\n",
    "plt.hlines(emp_wasserstein, times[0], times[-1],\n",
    "           colors='r', linestyles='--', label='emp W2²')\n",
    "plt.xlabel('t')\n",
    "plt.ylabel('Value')\n",
    "plt.yscale('log')\n",
    "plt.legend()\n",
    "plt.tight_layout()\n",
    "plt.show()"
   ]
  },
  {
   "cell_type": "code",
   "execution_count": 38,
   "id": "4b756b58",
   "metadata": {},
   "outputs": [],
   "source": [
    "import ot"
   ]
  },
  {
   "cell_type": "code",
   "execution_count": null,
   "id": "8b0bf9cc",
   "metadata": {},
   "outputs": [],
   "source": [
    "# 1. Evaluate the unnormalized “pdf” of μ at each X0[i]:  wX_raw[i] = e^{-U(X0[i])}\n",
    "wX_raw = np.exp(-U(X0))        # shape: (N,)\n",
    "\n",
    "# 2. Normalize so that sum_i a[i] = 1\n",
    "a = wX_raw / np.sum(wX_raw)    # shape: (N,)\n",
    "\n",
    "# 3. Do the same for ν:  wY_raw[j] = e^{-V(Y0[j])}\n",
    "wY_raw = np.exp(-V(Y0))        # shape: (N,)\n",
    "b = wY_raw / np.sum(wY_raw)    # shape: (N,)\n",
    "\n",
    "# -------------------------------------------------------------------------\n",
    "# B) Build the cost matrix M_{ij} = (X0[i] - Y0[j])^2   (or 0.5*(x-y)^2 if you prefer)\n",
    "# -------------------------------------------------------------------------\n",
    "# If you want c(x,y)=|x-y|^2, then:\n",
    "M = (X0.reshape(-1, 1) - Y0.reshape(1, -1))**2   # shape: (N, N)"
   ]
  },
  {
   "cell_type": "code",
   "execution_count": 40,
   "id": "a3996a8c",
   "metadata": {},
   "outputs": [
    {
     "name": "stdout",
     "output_type": "stream",
     "text": [
      "0.28433779395302416\n"
     ]
    }
   ],
   "source": [
    "P_es = ot.bregman.sinkhorn_epsilon_scaling(\n",
    "            a,\n",
    "            b,\n",
    "            M,\n",
    "            eps,\n",
    "            stopThr=1e-9,\n",
    "            numItermax=1000,\n",
    "            tau=1e6,\n",
    "        )\n",
    "\n",
    "W_es = np.sum(P_es*M)\n",
    "print(W_es)"
   ]
  }
 ],
 "metadata": {
  "kernelspec": {
   "display_name": "Python 3",
   "language": "python",
   "name": "python3"
  },
  "language_info": {
   "codemirror_mode": {
    "name": "ipython",
    "version": 3
   },
   "file_extension": ".py",
   "mimetype": "text/x-python",
   "name": "python",
   "nbconvert_exporter": "python",
   "pygments_lexer": "ipython3",
   "version": "3.10.12"
  }
 },
 "nbformat": 4,
 "nbformat_minor": 5
}
