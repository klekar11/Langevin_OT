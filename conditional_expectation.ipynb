{
 "cells": [
  {
   "cell_type": "markdown",
   "id": "01a7e280",
   "metadata": {},
   "source": [
    "# Covariance estimation"
   ]
  },
  {
   "cell_type": "code",
   "execution_count": 2,
   "id": "493c038d",
   "metadata": {},
   "outputs": [],
   "source": [
    "import numpy as np\n",
    "import pandas as pd\n",
    "import itertools\n",
    "import matplotlib.pyplot as plt\n",
    "\n",
    "# Set random seed for reproducibility\n",
    "np.random.seed(42)"
   ]
  },
  {
   "cell_type": "markdown",
   "id": "e5bb0b1c",
   "metadata": {},
   "source": [
    "## Four-dimensional polynomial example $Y = X_1 + X_2^2 + X_3 X_4 + V$"
   ]
  },
  {
   "cell_type": "markdown",
   "id": "1ee0284c",
   "metadata": {},
   "source": [
    "### Data generation"
   ]
  },
  {
   "cell_type": "code",
   "execution_count": 3,
   "id": "795975ba",
   "metadata": {},
   "outputs": [
    {
     "name": "stdout",
     "output_type": "stream",
     "text": [
      "         X1        X2        X3        X4         V         Y    E[Y|X]\n",
      "0  0.496714 -0.138264  0.647689  1.523030 -0.471858  1.030423  1.502280\n",
      "1 -0.234153 -0.234137  1.579213  0.767435  1.012702  2.045312  1.032609\n",
      "2 -0.469474  0.542560 -0.463418 -0.465730 -0.198187 -0.157462  0.040724\n",
      "3  0.241962 -1.913280 -1.724918 -0.562288  0.090569  4.963073  4.872503\n",
      "4 -1.012831  0.314247 -0.908024 -1.412304  0.717391  1.085717  0.368326\n"
     ]
    }
   ],
   "source": [
    "# Number of samples\n",
    "n_samples = 10**4\n",
    "\n",
    "X = np.random.randn(n_samples, 4)\n",
    "V = np.random.randn(n_samples)\n",
    "\n",
    "# True model: Y = X1 + X2^2 + X3*X4 + V\n",
    "Y = X[:, 0] + X[:, 1]**2 + X[:, 2]*X[:, 3] + V\n",
    "\n",
    "\n",
    "\n",
    "# Compute the theoretical conditional expectation E[Y | X]\n",
    "E_Y_given_X = X[:, 0] + X[:, 1]**2 + X[:, 2]*X[:, 3]\n",
    "\n",
    "# Optional: Put everything in a DataFrame for easy inspection\n",
    "df = pd.DataFrame({\n",
    "    'X1': X[:, 0],\n",
    "    'X2': X[:, 1],\n",
    "    'X3': X[:, 2],\n",
    "    'X4': X[:, 3],\n",
    "    'V': V,\n",
    "    'Y': Y,\n",
    "    'E[Y|X]': E_Y_given_X\n",
    "})\n",
    "\n",
    "# Show the first few rows\n",
    "print(df.head())"
   ]
  },
  {
   "cell_type": "code",
   "execution_count": 4,
   "id": "4fc1720f",
   "metadata": {},
   "outputs": [
    {
     "name": "stdout",
     "output_type": "stream",
     "text": [
      "         X1        X2        X3  ...     X2*X3     X2*X4     X3*X4\n",
      "0  0.496714 -0.138264  0.647689  ... -0.089552 -0.210581  0.986449\n",
      "1 -0.234153 -0.234137  1.579213  ... -0.369752 -0.179685  1.211943\n",
      "2 -0.469474  0.542560 -0.463418  ... -0.251432 -0.252686  0.215827\n",
      "3  0.241962 -1.913280 -1.724918  ...  3.300251  1.075814  0.969900\n",
      "4 -1.012831  0.314247 -0.908024  ... -0.285344 -0.443813  1.282406\n",
      "\n",
      "[5 rows x 14 columns]\n"
     ]
    }
   ],
   "source": [
    "# # Build features and track labels\n",
    "# features = [np.ones(n_samples)]\n",
    "# feature_names = [\"1\"]  # intercept\n",
    "# X_names = [\"X1\", \"X2\", \"X3\", \"X4\"]\n",
    "\n",
    "# # Linear terms\n",
    "# for i in range(4):\n",
    "#     features.append(X[:, i])\n",
    "#     feature_names.append(X_names[i])\n",
    "\n",
    "# # Squared terms\n",
    "# for i in range(4):\n",
    "#     features.append(X[:, i] ** 2)\n",
    "#     feature_names.append(f\"{X_names[i]}^2\")\n",
    "\n",
    "# # Interaction terms\n",
    "# for i, j in itertools.combinations(range(4), 2):\n",
    "#     features.append(X[:, i] * X[:, j])\n",
    "#     feature_names.append(f\"{X_names[i]}*{X_names[j]}\")\n",
    "\n",
    "# # Stack into design matrix A\n",
    "# A = np.column_stack(features)\n",
    "\n",
    "# # Create DataFrame for inspection\n",
    "# A_df = pd.DataFrame(A, columns=feature_names)\n",
    "\n",
    "# # Preview\n",
    "# print(A_df.head())\n",
    "\n",
    "\n",
    "X_names = [\"X1\", \"X2\", \"X3\", \"X4\"]\n",
    "\n",
    "# Build features and track labels (no intercept)\n",
    "features = []\n",
    "feature_names = []\n",
    "\n",
    "# Linear terms\n",
    "for i in range(4):\n",
    "    features.append(X[:, i])\n",
    "    feature_names.append(X_names[i])\n",
    "\n",
    "# Squared terms\n",
    "for i in range(4):\n",
    "    features.append(X[:, i] ** 2)\n",
    "    feature_names.append(f\"{X_names[i]}^2\")\n",
    "\n",
    "# Interaction terms\n",
    "for i, j in itertools.combinations(range(4), 2):\n",
    "    features.append(X[:, i] * X[:, j])\n",
    "    feature_names.append(f\"{X_names[i]}*{X_names[j]}\")\n",
    "\n",
    "# Stack into design matrix A\n",
    "A = np.column_stack(features)\n",
    "\n",
    "# Create DataFrame for inspection\n",
    "A_df = pd.DataFrame(A, columns=feature_names)\n",
    "\n",
    "# Preview\n",
    "print(A_df.head())"
   ]
  },
  {
   "cell_type": "markdown",
   "id": "a9981d32",
   "metadata": {},
   "source": [
    "### LS using Cholesky"
   ]
  },
  {
   "cell_type": "code",
   "execution_count": 5,
   "id": "b9e3ed08",
   "metadata": {},
   "outputs": [
    {
     "name": "stdout",
     "output_type": "stream",
     "text": [
      "Condition number of A^T A: 6.596412854000045\n",
      "Estimated coefficients β̂ using Cholesky:\n",
      "[ 0.98524846  0.04605256 -0.0155176  -0.02401356 -0.1548712   0.99500162\n",
      "  0.10595344  0.17989396  0.0154222   0.01131537 -0.02685286 -0.00136024\n",
      "  0.03423852  1.01098684]\n"
     ]
    }
   ],
   "source": [
    "# Least squares solution using Cholesky\n",
    "ATA = A.T @ A\n",
    "ATy = A.T @ Y\n",
    "\n",
    "# Compute condition number of A^T A (using 2-norm)\n",
    "condition_number = np.linalg.cond(ATA)\n",
    "\n",
    "print(\"Condition number of A^T A:\", condition_number)\n",
    "\n",
    "# Check if A^T A is positive definite\n",
    "if np.all(np.linalg.eigvals(ATA) > 0):\n",
    "    R = np.linalg.cholesky(ATA)\n",
    "    z = np.linalg.solve(R.T, ATy)\n",
    "    beta_hat = np.linalg.solve(R, z)\n",
    "    print(\"Estimated coefficients β̂ using Cholesky:\")\n",
    "    print(beta_hat)\n",
    "else:\n",
    "    print(\"A^T A is not positive definite – fallback needed (e.g. SVD)\")\n"
   ]
  },
  {
   "cell_type": "markdown",
   "id": "4d18eb6e",
   "metadata": {},
   "source": [
    "### Compute $\\bar{f}(X)$, $\\hat{f}(X)$, $F_{\\nu}^N$, $C_{\\nu}^N$ and $D_{\\nu}^N$"
   ]
  },
  {
   "cell_type": "code",
   "execution_count": 6,
   "id": "0b8e0942",
   "metadata": {},
   "outputs": [
    {
     "data": {
      "text/latex": [
       "$\\displaystyle F_N^\\nu = -0.001863$"
      ],
      "text/plain": [
       "<IPython.core.display.Math object>"
      ]
     },
     "metadata": {},
     "output_type": "display_data"
    },
    {
     "data": {
      "text/latex": [
       "$\\displaystyle C_N^\\nu = 5.001901$"
      ],
      "text/plain": [
       "<IPython.core.display.Math object>"
      ]
     },
     "metadata": {},
     "output_type": "display_data"
    },
    {
     "data": {
      "text/latex": [
       "$\\displaystyle D_N^\\nu = 1.006556$"
      ],
      "text/plain": [
       "<IPython.core.display.Math object>"
      ]
     },
     "metadata": {},
     "output_type": "display_data"
    },
    {
     "data": {
      "text/latex": [
       "$\\displaystyle \\left\\| \\hat{f} - \\bar{f} \\right\\|_{L^2(\\nu)} = 0.033341$"
      ],
      "text/plain": [
       "<IPython.core.display.Math object>"
      ]
     },
     "metadata": {},
     "output_type": "display_data"
    },
    {
     "data": {
      "text/latex": [
       "$\\displaystyle \\left\\| \\bar{f} \\right\\|_{L^2(\\nu)} = 2.236066$"
      ],
      "text/plain": [
       "<IPython.core.display.Math object>"
      ]
     },
     "metadata": {},
     "output_type": "display_data"
    },
    {
     "data": {
      "text/latex": [
       "$\\displaystyle \\text{Relative } L^2 \\text{ Error} = 0.014911$"
      ],
      "text/plain": [
       "<IPython.core.display.Math object>"
      ]
     },
     "metadata": {},
     "output_type": "display_data"
    },
    {
     "data": {
      "text/latex": [
       "$\\displaystyle \\sqrt{F_N^\\nu / C_N^\\nu} = 0.019300$"
      ],
      "text/plain": [
       "<IPython.core.display.Math object>"
      ]
     },
     "metadata": {},
     "output_type": "display_data"
    },
    {
     "data": {
      "text/latex": [
       "$\\displaystyle \\text{Absolute Difference} = 0.004390$"
      ],
      "text/plain": [
       "<IPython.core.display.Math object>"
      ]
     },
     "metadata": {},
     "output_type": "display_data"
    }
   ],
   "source": [
    "\n",
    "from sklearn.linear_model import LinearRegression\n",
    "from IPython.display import display, Math\n",
    "\n",
    "# Data generation\n",
    "np.random.seed(42)\n",
    "n_test = 10**5\n",
    "X = np.random.randn(n_samples, 4)\n",
    "V = np.random.randn(n_samples)\n",
    "\n",
    "f_bar = X[:, 0] + X[:, 1]**2 + X[:, 2]*X[:, 3]\n",
    "Y = f_bar + V\n",
    "\n",
    "# Design matrix (no bias term)\n",
    "features = []\n",
    "for i in range(4):\n",
    "    features.append(X[:, i])\n",
    "for i in range(4):\n",
    "    features.append(X[:, i] ** 2)\n",
    "for i, j in itertools.combinations(range(4), 2):\n",
    "    features.append(X[:, i] * X[:, j])\n",
    "A = np.column_stack(features)\n",
    "\n",
    "\n",
    "# Independent test set\n",
    "n_test = 10**5\n",
    "X_test = np.random.randn(n_test, 4)\n",
    "V_test = np.random.randn(n_test)\n",
    "f_bar_test = X_test[:, 0] + X_test[:, 1]**2 + X_test[:, 2]*X_test[:, 3]\n",
    "Y_test = f_bar_test + V_test\n",
    "\n",
    "# Test design matrix\n",
    "features_test = []\n",
    "for i in range(4):\n",
    "    features_test.append(X_test[:, i])\n",
    "for i in range(4):\n",
    "    features_test.append(X_test[:, i] ** 2)\n",
    "for i, j in itertools.combinations(range(4), 2):\n",
    "    features_test.append(X_test[:, i] * X_test[:, j])\n",
    "A_test = np.column_stack(features_test)\n",
    "\n",
    "# OLS fit\n",
    "ols = LinearRegression(fit_intercept=False)\n",
    "ols.fit(A, Y)\n",
    "f_hat = A_test @ ols.coef_\n",
    "\n",
    "# === Monte Carlo metrics ===\n",
    "Z = f_bar_test + np.random.randn(n_test)  # Independent copy of V\n",
    "\n",
    "FN_nu = np.mean(Z * Y_test + f_hat * (f_hat - Y_test - Z))\n",
    "CN_nu = np.mean(Y_test * Z)\n",
    "DN_nu = np.mean(Y_test * (Y_test - Z))\n",
    "\n",
    "norm_fhat_minus_fbar = np.sqrt(np.mean((f_hat - f_bar_test) ** 2))\n",
    "norm_fbar = np.sqrt(np.mean(f_bar_test ** 2))\n",
    "relative_L2_error = norm_fhat_minus_fbar / norm_fbar\n",
    "sqrt_FN_over_CN = np.sqrt(abs(FN_nu) / CN_nu)\n",
    "error_between_metrics = abs(relative_L2_error - sqrt_FN_over_CN)\n",
    "\n",
    "# === Display results in LaTeX ===\n",
    "display(Math(r\"F_N^\\nu = {:.6f}\".format(FN_nu)))\n",
    "display(Math(r\"C_N^\\nu = {:.6f}\".format(CN_nu)))\n",
    "display(Math(r\"D_N^\\nu = {:.6f}\".format(DN_nu)))\n",
    "display(Math(r\"\\left\\| \\hat{{f}} - \\bar{{f}} \\right\\|_{{L^2(\\nu)}} = {:.6f}\".format(norm_fhat_minus_fbar)))\n",
    "display(Math(r\"\\left\\| \\bar{{f}} \\right\\|_{{L^2(\\nu)}} = {:.6f}\".format(norm_fbar)))\n",
    "display(Math(r\"\\text{{Relative }} L^2 \\text{{ Error}} = {:.6f}\".format(relative_L2_error)))\n",
    "display(Math(r\"\\sqrt{{F_N^\\nu / C_N^\\nu}} = {:.6f}\".format(sqrt_FN_over_CN)))\n",
    "display(Math(r\"\\text{{Absolute Difference}} = {:.6f}\".format(error_between_metrics)))\n"
   ]
  },
  {
   "cell_type": "code",
   "execution_count": 7,
   "id": "48a9cff9",
   "metadata": {},
   "outputs": [
    {
     "data": {
      "text/plain": [
       "np.float64(0.9819047323558558)"
      ]
     },
     "execution_count": 7,
     "metadata": {},
     "output_type": "execute_result"
    }
   ],
   "source": [
    "f_hat = A @ beta_hat\n",
    "f_bar = X[:, 0] + X[:, 1]**2 + X[:, 2] * X[:, 3]\n",
    "np.corrcoef(f_hat, f_bar)[0, 1]  # Should be close to 1"
   ]
  },
  {
   "cell_type": "markdown",
   "id": "c95e5792",
   "metadata": {},
   "source": [
    "## Estimation of $\\mathbf{E}[\\mathbf{Y}| \\mathbf{X}]$ for multivariate Gaussian : $\\mathbf{Y}|\\mathbf{X} \\sim \\mathcal{N}(\\boldsymbol{\\mu}_{\\mathbf{Y}|\\mathbf{X}}, \\mathbf{K}_{\\mathbf{Y}|\\mathbf{X}})$ "
   ]
  },
  {
   "cell_type": "code",
   "execution_count": 8,
   "id": "5e761ea1",
   "metadata": {},
   "outputs": [],
   "source": [
    "# Define the mean vectors and covariance matrix\n",
    "mu_X = np.array([1, 2])  # Mean of X\n",
    "mu_Y = np.array([4, 3])  # Mean of Y\n",
    "\n",
    "# Define the covariance matrix components\n",
    "K_XX = np.array([[1, 0.5], [0.5, 1]])  # Covariance matrix for X\n",
    "K_YY = np.array([[1, -0.5], [-0.5, 1]])  # Covariance matrix for Y\n",
    "K_XY = np.array([[0.3, 0.2], [0.2, 0.3]])  # Covariance matrix between X and Y\n",
    "\n",
    "# Construct the full covariance matrix Sigma\n",
    "Sigma = np.block([\n",
    "    [K_XX, K_XY],\n",
    "    [K_XY.T, K_YY]\n",
    "])\n",
    "\n",
    "# Construct the joint mean vector mu\n",
    "mu = np.concatenate([mu_X, mu_Y])\n",
    "\n",
    "# Generate jointly Gaussian distributed samples\n",
    "n_samples = 1000\n",
    "samples = np.random.multivariate_normal(mu, Sigma, size=n_samples)\n",
    "\n",
    "# Split the samples into X and Y\n",
    "X_samples = samples[:, :2]\n",
    "Y_samples = samples[:, 2:]"
   ]
  },
  {
   "cell_type": "code",
   "execution_count": 9,
   "id": "4b1767da",
   "metadata": {},
   "outputs": [
    {
     "name": "stdout",
     "output_type": "stream",
     "text": [
      "(1000, 2)\n",
      "(1000, 2)\n",
      "(1000, 2)\n",
      "0.039321011376157754\n"
     ]
    },
    {
     "data": {
      "text/latex": [
       "$\\displaystyle \\left\\| \\hat{f} - \\bar{f} \\right\\|_{L^2(\\nu)} = 0.051957$"
      ],
      "text/plain": [
       "<IPython.core.display.Math object>"
      ]
     },
     "metadata": {},
     "output_type": "display_data"
    },
    {
     "data": {
      "text/latex": [
       "$\\displaystyle \\left\\| \\bar{f} \\right\\|_{L^2(\\nu)} = 3.542561$"
      ],
      "text/plain": [
       "<IPython.core.display.Math object>"
      ]
     },
     "metadata": {},
     "output_type": "display_data"
    },
    {
     "data": {
      "text/latex": [
       "$\\displaystyle \\text{Relative } L^2 \\text{ Error} = 0.014667$"
      ],
      "text/plain": [
       "<IPython.core.display.Math object>"
      ]
     },
     "metadata": {},
     "output_type": "display_data"
    }
   ],
   "source": [
    "# Split the samples into X and Y\n",
    "X_samples = samples[:, :2]\n",
    "Y_samples = samples[:, 2:]\n",
    "print(Y_samples.shape)\n",
    "\n",
    "# Estimate conditional mean of Y given X using the formula\n",
    "Sigma_XX_inv = np.linalg.inv(K_XX)\n",
    "Sigma_XY = K_XY\n",
    "# Perform element-wise subtraction for X_samples - mu_X, ensuring proper alignment\n",
    "X_diff = X_samples - mu_X  # Shape will be (n_samples, 2)\n",
    "\n",
    "# Compute conditional mean\n",
    "mu_cond = mu_Y + X_diff @ Sigma_XX_inv @ Sigma_XY.T  # Shape (n_samples, 2) @ (2, 2) @ (2, 2) -> (n_samples, 2)\n",
    "print(mu_cond.shape)\n",
    "\n",
    "# Augment design matrix with bias term and cross-term X0*X1\n",
    "X0_X1 = X_samples[:, 0] * X_samples[:, 1]  # Cross-term X0 * X1\n",
    "A = np.column_stack([X_samples, X0_X1, np.ones(n_samples)])  # Add bias term (constant)\n",
    "\n",
    "# Perform linear regression to estimate the conditional mean\n",
    "ols = LinearRegression(fit_intercept=False)  # No intercept, because we added a bias term\n",
    "ols.fit(A, Y_samples)\n",
    "f_hat = A @ ols.coef_.T\n",
    "print(f_hat.shape)\n",
    "\n",
    "# Now compare mu_cond and f_hat\n",
    "# Compute the absolute difference between the conditional expectation and the approximation\n",
    "absolute_diff = np.mean(np.abs(mu_cond - f_hat))\n",
    "print(absolute_diff)\n",
    "norm_fhat_minus_fbar = np.sqrt(np.mean((f_hat - mu_cond) ** 2))\n",
    "norm_fbar = np.sqrt(np.mean(mu_cond ** 2))\n",
    "relative_L2_error = norm_fhat_minus_fbar / norm_fbar\n",
    "\n",
    "# Display the results\n",
    "display(Math(r\"\\left\\| \\hat{{f}} - \\bar{{f}} \\right\\|_{{L^2(\\nu)}} = {:.6f}\".format(norm_fhat_minus_fbar)))\n",
    "display(Math(r\"\\left\\| \\bar{{f}} \\right\\|_{{L^2(\\nu)}} = {:.6f}\".format(norm_fbar)))\n",
    "display(Math(r\"\\text{{Relative }} L^2 \\text{{ Error}} = {:.6f}\".format(relative_L2_error)))"
   ]
  },
  {
   "cell_type": "code",
   "execution_count": 10,
   "id": "bb3a56cf",
   "metadata": {},
   "outputs": [
    {
     "data": {
      "image/png": "[encoded data removed]",
      "text/plain": [
       "<Figure size 800x600 with 1 Axes>"
      ]
     },
     "metadata": {},
     "output_type": "display_data"
    }
   ],
   "source": [
    "from sklearn.linear_model import LinearRegression\n",
    "\n",
    "# Define parameters for X and Y\n",
    "mu_X = np.array([1, 2])  # Mean of X\n",
    "mu_Y = np.array([4, 3])  # Mean of Y\n",
    "K_XX = np.array([[1, 0.5], [0.5, 1]])  # Covariance matrix for X\n",
    "K_YY = np.array([[1, -0.5], [-0.5, 1]])  # Covariance matrix for Y\n",
    "K_XY = np.array([[0.3, 0.2], [0.2, 0.3]])  # Covariance matrix between X and Y\n",
    "\n",
    "# Define function to compute conditional mean mu_cond\n",
    "def compute_conditional_mean(X, mu_X, mu_Y, Sigma_XX_inv, Sigma_XY):\n",
    "    X_diff = X - mu_X  # Element-wise difference\n",
    "    mu_cond = mu_Y + X_diff @ Sigma_XX_inv @ Sigma_XY.T  # Conditional mean\n",
    "    return mu_cond\n",
    "\n",
    "# Function to compute relative L2 error for a given sample size N\n",
    "def compute_relative_L2_error(N):\n",
    "    # Generate samples from the joint distribution\n",
    "    mu = np.concatenate([mu_X, mu_Y])\n",
    "    Sigma = np.block([\n",
    "        [K_XX, K_XY],\n",
    "        [K_XY.T, K_YY]\n",
    "    ])\n",
    "    samples = np.random.multivariate_normal(mu, Sigma, size=N)\n",
    "\n",
    "    # Split the samples into X and Y\n",
    "    X_samples = samples[:, :2]\n",
    "    Y_samples = samples[:, 2:]\n",
    "\n",
    "    # Compute the conditional mean mu_cond (true conditional mean)\n",
    "    Sigma_XX_inv = np.linalg.inv(K_XX)\n",
    "    Sigma_XY = K_XY\n",
    "    mu_cond = compute_conditional_mean(X_samples, mu_X, mu_Y, Sigma_XX_inv, Sigma_XY)\n",
    "\n",
    "    # Perform linear regression to estimate f_hat\n",
    "    A = np.column_stack([X_samples, X_samples[:, 0] * X_samples[:, 1], np.ones(N)])\n",
    "    ols = LinearRegression(fit_intercept=False)\n",
    "    ols.fit(A, Y_samples)\n",
    "    f_hat = A @ ols.coef_.T  # Predicted values of Y\n",
    "\n",
    "    # Compute L2-norm of the difference (f_hat - mu_cond)\n",
    "    norm_fhat_minus_fbar = np.sqrt(np.mean((f_hat - mu_cond) ** 2))\n",
    "\n",
    "    # Compute L2-norm of the true conditional mean mu_cond\n",
    "    norm_fbar = np.sqrt(np.mean(mu_cond ** 2))\n",
    "\n",
    "    # Compute relative L2 error\n",
    "    relative_L2_error = norm_fhat_minus_fbar / norm_fbar\n",
    "    return relative_L2_error\n",
    "\n",
    "# Values of N for which we will compute the relative L2 error\n",
    "N_values = [10**i for i in range(1, 8)]\n",
    "relative_L2_errors = [compute_relative_L2_error(N) for N in N_values]\n",
    "\n",
    "# Log-log interpolation (linear regression in log-log space)\n",
    "log_N_values = np.log(N_values)\n",
    "log_relative_L2_errors = np.log(relative_L2_errors)\n",
    "\n",
    "# Fit a linear model in the log-log space\n",
    "model = LinearRegression()\n",
    "model.fit(log_N_values.reshape(-1, 1), log_relative_L2_errors)\n",
    "\n",
    "# Get the slope (coefficient) and intercept of the fit\n",
    "slope = model.coef_[0]\n",
    "intercept = model.intercept_\n",
    "\n",
    "# Generate the interpolated log-log values for plotting\n",
    "N_interp = np.logspace(np.log10(10), np.log10(10**7), num=100)\n",
    "log_N_interp = np.log(N_interp)\n",
    "log_interpolated_values = model.predict(log_N_interp.reshape(-1, 1))\n",
    "\n",
    "# Plot the results on a log-log scale\n",
    "plt.figure(figsize=(8, 6))\n",
    "plt.loglog(N_values, relative_L2_errors, marker='o', linestyle='-', color='b', label=r'$\\frac{\\left\\| \\hat{\\boldsymbol{\\mu}}_{\\mathbf{Y}|\\mathbf{X}} - \\boldsymbol{\\mu}_{\\mathbf{Y}|\\mathbf{X}} \\right\\|_{L^2(\\nu)}}{\\left\\| \\boldsymbol{\\mu}_{\\mathbf{Y}|\\mathbf{X}} \\right\\|_{L^2(\\nu)}}$')\n",
    "plt.loglog(N_interp, np.exp(log_interpolated_values), linestyle='-', color='g', label=f'Log-Log Fit (Slope = {slope:.6f})')\n",
    "plt.xlabel('N')\n",
    "plt.ylabel(r'Relative $\\mathbb{L}_2$ error')\n",
    "plt.grid(True)\n",
    "plt.legend()\n",
    "plt.savefig('CondExpectL2errorGaussian.png', dpi=300, bbox_inches='tight')\n",
    "\n",
    "plt.show()"
   ]
  },
  {
   "cell_type": "markdown",
   "id": "1cb76294",
   "metadata": {},
   "source": [
    "## For 1D"
   ]
  },
  {
   "cell_type": "code",
   "execution_count": 4,
   "id": "d2384652",
   "metadata": {},
   "outputs": [
    {
     "name": "stdout",
     "output_type": "stream",
     "text": [
      "0.03554848464563622\n"
     ]
    }
   ],
   "source": [
    "import numpy as np\n",
    "# Set random seed for reproducibility\n",
    "np.random.seed(42)\n",
    "from cond_expect_ols import compute_ols_parameters, compute_relative_L2_error\n",
    "\n",
    "# Define parameters\n",
    "num_samples = 100000\n",
    "mu1 = 1\n",
    "mu2 = 2\n",
    "sigma1 = 5  # standard deviation of X\n",
    "sigma2 = 10  # standard deviation of Y\n",
    "\n",
    "X = np.random.normal(mu1, sigma1, num_samples)\n",
    "Y = np.random.normal(mu2, sigma2, num_samples)\n",
    "\n",
    "EYX, _, _ = compute_ols_parameters(X, Y)\n",
    "mu_cond = 2\n",
    "relerror = compute_relative_L2_error(EYX, mu_cond)\n",
    "print(relerror)"
   ]
  }
 ],
 "metadata": {
  "kernelspec": {
   "display_name": "stochastic",
   "language": "python",
   "name": "python3"
  },
  "language_info": {
   "codemirror_mode": {
    "name": "ipython",
    "version": 3
   },
   "file_extension": ".py",
   "mimetype": "text/x-python",
   "name": "python",
   "nbconvert_exporter": "python",
   "pygments_lexer": "ipython3",
   "version": "3.12.5"
  }
 },
 "nbformat": 4,
 "nbformat_minor": 5
}
